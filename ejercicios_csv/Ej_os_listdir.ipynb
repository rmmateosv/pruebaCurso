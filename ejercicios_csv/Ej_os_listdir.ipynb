{
 "cells": [
  {
   "cell_type": "code",
   "execution_count": 3,
   "id": "e33d8375",
   "metadata": {},
   "outputs": [
    {
     "name": "stdout",
     "output_type": "stream",
     "text": [
      "['Ejemplo_1.ipynb', 'Ejemplo_1_CSV_SacramCrime.ipynb', 'Ejemplo_2.ipynb', 'Ejemplo_2_CSV.ipynb', 'Ejemplo_3.ipynb', 'Ejemplo_3_CSV.ipynb', 'Ejemplo_4.ipynb', 'Ejemplo_5.ipynb', 'Ejemplo_6.ipynb', 'Ej_os_listdir.ipynb', 'JSON_Python.ipynb', 'Untitled.ipynb']\n"
     ]
    }
   ],
   "source": [
    "#Obtener todos los ficheros que acaban con una determinada extensión \".ipynb\" (usar .endswith):\n",
    "\n",
    "import os\n",
    "items = os.listdir(\".\")\n",
    "nuevalista = []\n",
    "\n",
    "for nombres in items:\n",
    "    if nombres.endswith(\".ipynb\"):\n",
    "        nuevalista.append(nombres)\n",
    "\n",
    "print (nuevalista)"
   ]
  },
  {
   "cell_type": "code",
   "execution_count": 10,
   "id": "b83b60ca",
   "metadata": {},
   "outputs": [
    {
     "name": "stdout",
     "output_type": "stream",
     "text": [
      "['4.1.txt']\n"
     ]
    }
   ],
   "source": [
    "#en una sola línea:\n",
    "import os\n",
    "nuevalista = [f for f in os.listdir('.') if f.endswith('.txt')]\n",
    "print (nuevalista)"
   ]
  },
  {
   "cell_type": "code",
   "execution_count": null,
   "id": "1f275c04",
   "metadata": {},
   "outputs": [],
   "source": []
  }
 ],
 "metadata": {
  "kernelspec": {
   "display_name": "Python 3 (ipykernel)",
   "language": "python",
   "name": "python3"
  },
  "language_info": {
   "codemirror_mode": {
    "name": "ipython",
    "version": 3
   },
   "file_extension": ".py",
   "mimetype": "text/x-python",
   "name": "python",
   "nbconvert_exporter": "python",
   "pygments_lexer": "ipython3",
   "version": "3.9.12"
  }
 },
 "nbformat": 4,
 "nbformat_minor": 5
}
