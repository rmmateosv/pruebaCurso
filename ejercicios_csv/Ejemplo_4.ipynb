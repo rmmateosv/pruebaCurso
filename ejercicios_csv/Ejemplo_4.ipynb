{
 "cells": [
  {
   "cell_type": "code",
   "execution_count": 8,
   "metadata": {},
   "outputs": [
    {
     "name": "stdout",
     "output_type": "stream",
     "text": [
      "Línea # 1 ['naranjas', 'limones', 'peras', 'uvas']\n",
      "Línea # 2 ['jamon', 'chorizo', 'queso', 'salchichón']\n",
      "Línea # 3 ['1', '3', '4', '6']\n"
     ]
    }
   ],
   "source": [
    "import csv\n",
    "archivoSalida = open (\"Salida.csv\", 'w', newline='')\n",
    "salidaEscritor = csv.writer(archivoSalida)\n",
    "salidaEscritor.writerow([\"naranjas\",\"limones\",\"peras\",\"uvas\"])\n",
    "salidaEscritor.writerow([\"jamon\",\"chorizo\",\"queso\",\"salchichón\"])\n",
    "salidaEscritor.writerow([1,3,4,6])\n",
    "archivoSalida.close()\n",
    "\n",
    "archivoEjemplo = open (\"Salida.csv\")\n",
    "ejemploLector = csv.reader(archivoEjemplo)\n",
    "for linea in ejemploLector:\n",
    "    print('Línea #', str(ejemploLector.line_num)+\" \"+str(linea))"
   ]
  },
  {
   "cell_type": "code",
   "execution_count": null,
   "metadata": {},
   "outputs": [],
   "source": []
  }
 ],
 "metadata": {
  "kernelspec": {
   "display_name": "Python 3 (ipykernel)",
   "language": "python",
   "name": "python3"
  },
  "language_info": {
   "codemirror_mode": {
    "name": "ipython",
    "version": 3
   },
   "file_extension": ".py",
   "mimetype": "text/x-python",
   "name": "python",
   "nbconvert_exporter": "python",
   "pygments_lexer": "ipython3",
   "version": "3.9.12"
  }
 },
 "nbformat": 4,
 "nbformat_minor": 2
}
